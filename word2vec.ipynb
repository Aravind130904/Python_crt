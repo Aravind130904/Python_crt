{
 "cells": [
  {
   "cell_type": "code",
   "execution_count": 12,
   "metadata": {},
   "outputs": [
    {
     "name": "stdout",
     "output_type": "stream",
     "text": [
      "Collecting gensim\n",
      "  Downloading gensim-4.3.3-cp312-cp312-win_amd64.whl.metadata (8.2 kB)\n",
      "Requirement already satisfied: numpy<2.0,>=1.18.5 in c:\\users\\manna\\appdata\\local\\programs\\python\\python312\\lib\\site-packages (from gensim) (1.26.1)\n",
      "Collecting scipy<1.14.0,>=1.7.0 (from gensim)\n",
      "  Downloading scipy-1.13.1-cp312-cp312-win_amd64.whl.metadata (60 kB)\n",
      "Collecting smart-open>=1.8.1 (from gensim)\n",
      "  Using cached smart_open-7.1.0-py3-none-any.whl.metadata (24 kB)\n",
      "Collecting wrapt (from smart-open>=1.8.1->gensim)\n",
      "  Using cached wrapt-1.17.2-cp312-cp312-win_amd64.whl.metadata (6.5 kB)\n",
      "Downloading gensim-4.3.3-cp312-cp312-win_amd64.whl (24.0 MB)\n",
      "   ---------------------------------------- 0.0/24.0 MB ? eta -:--:--\n",
      "   ----------------------- ---------------- 13.9/24.0 MB 67.2 MB/s eta 0:00:01\n",
      "   ---------------------------------------- 24.0/24.0 MB 66.1 MB/s eta 0:00:00\n",
      "Downloading scipy-1.13.1-cp312-cp312-win_amd64.whl (45.9 MB)\n",
      "   ---------------------------------------- 0.0/45.9 MB ? eta -:--:--\n",
      "   ------------- -------------------------- 15.7/45.9 MB 70.9 MB/s eta 0:00:01\n",
      "   --------------- ------------------------ 18.1/45.9 MB 42.3 MB/s eta 0:00:01\n",
      "   ---------------------- ----------------- 25.4/45.9 MB 39.3 MB/s eta 0:00:01\n",
      "   ---------------------------- ----------- 32.2/45.9 MB 37.2 MB/s eta 0:00:01\n",
      "   ---------------------------------------  45.9/45.9 MB 43.0 MB/s eta 0:00:01\n",
      "   ---------------------------------------- 45.9/45.9 MB 39.0 MB/s eta 0:00:00\n",
      "Downloading smart_open-7.1.0-py3-none-any.whl (61 kB)\n",
      "Downloading wrapt-1.17.2-cp312-cp312-win_amd64.whl (38 kB)\n",
      "Installing collected packages: wrapt, scipy, smart-open, gensim\n",
      "  Attempting uninstall: scipy\n",
      "    Found existing installation: scipy 1.15.1\n",
      "    Uninstalling scipy-1.15.1:\n",
      "      Successfully uninstalled scipy-1.15.1\n",
      "Successfully installed gensim-4.3.3 scipy-1.13.1 smart-open-7.1.0 wrapt-1.17.2\n"
     ]
    },
    {
     "name": "stderr",
     "output_type": "stream",
     "text": [
      "\n",
      "[notice] A new release of pip is available: 24.3.1 -> 25.0\n",
      "[notice] To update, run: python.exe -m pip install --upgrade pip\n"
     ]
    }
   ],
   "source": [
    "!pip install gensim"
   ]
  },
  {
   "cell_type": "code",
   "execution_count": 13,
   "metadata": {},
   "outputs": [],
   "source": [
    "from gensim.models import word2vec\n",
    "import pandas as pd \n",
    "import nltk"
   ]
  },
  {
   "cell_type": "code",
   "execution_count": 16,
   "metadata": {},
   "outputs": [
    {
     "name": "stdout",
     "output_type": "stream",
     "text": [
      "[['i', 'am', 'ironman'], ['i', 'am', 'captain', 'america'], ['i', 'am', 'inevitable'], ['i', 'am', 'thor,', 'god', 'of', 'thunder!!!'], ['i', 'am', 'groot'], ['black', 'panther', 'is', 'the', 'king', 'of', 'wakanda']]\n"
     ]
    }
   ],
   "source": [
    "corpus=[\n",
    "    'I am Ironman',\n",
    "    'I am Captain America',\n",
    "    'I am Inevitable',\n",
    "    'I am Thor, God of thunder!!!',\n",
    "    'I am Groot',\n",
    "    'Black panther is the king of Wakanda',\n",
    "]\n",
    "tokenized_corpus=[sentence.lower().split() for sentence in corpus]\n",
    "print(tokenized_corpus)"
   ]
  },
  {
   "cell_type": "code",
   "execution_count": 17,
   "metadata": {},
   "outputs": [],
   "source": [
    "model=word2vec.Word2Vec(tokenized_corpus,vector_size=100, window=5, min_count=1, workers=4)\n",
    "model.save(\"word2vec.model\")"
   ]
  },
  {
   "cell_type": "code",
   "execution_count": null,
   "metadata": {},
   "outputs": [],
   "source": []
  }
 ],
 "metadata": {
  "kernelspec": {
   "display_name": "Python 3",
   "language": "python",
   "name": "python3"
  },
  "language_info": {
   "codemirror_mode": {
    "name": "ipython",
    "version": 3
   },
   "file_extension": ".py",
   "mimetype": "text/x-python",
   "name": "python",
   "nbconvert_exporter": "python",
   "pygments_lexer": "ipython3",
   "version": "3.12.0"
  }
 },
 "nbformat": 4,
 "nbformat_minor": 2
}
