{
 "cells": [
  {
   "cell_type": "code",
   "execution_count": 2,
   "metadata": {},
   "outputs": [
    {
     "name": "stdout",
     "output_type": "stream",
     "text": [
      "Requirement already satisfied: selenium in c:\\users\\manna\\appdata\\local\\programs\\python\\python312\\lib\\site-packages (4.28.1)\n",
      "Requirement already satisfied: urllib3<3,>=1.26 in c:\\users\\manna\\appdata\\local\\programs\\python\\python312\\lib\\site-packages (from urllib3[socks]<3,>=1.26->selenium) (2.0.7)\n",
      "Requirement already satisfied: trio~=0.17 in c:\\users\\manna\\appdata\\local\\programs\\python\\python312\\lib\\site-packages (from selenium) (0.28.0)\n",
      "Requirement already satisfied: trio-websocket~=0.9 in c:\\users\\manna\\appdata\\local\\programs\\python\\python312\\lib\\site-packages (from selenium) (0.11.1)\n",
      "Requirement already satisfied: certifi>=2021.10.8 in c:\\users\\manna\\appdata\\local\\programs\\python\\python312\\lib\\site-packages (from selenium) (2023.7.22)\n",
      "Requirement already satisfied: typing_extensions~=4.9 in c:\\users\\manna\\appdata\\local\\programs\\python\\python312\\lib\\site-packages (from selenium) (4.12.2)\n",
      "Requirement already satisfied: websocket-client~=1.8 in c:\\users\\manna\\appdata\\local\\programs\\python\\python312\\lib\\site-packages (from selenium) (1.8.0)\n",
      "Requirement already satisfied: attrs>=23.2.0 in c:\\users\\manna\\appdata\\local\\programs\\python\\python312\\lib\\site-packages (from trio~=0.17->selenium) (25.1.0)\n",
      "Requirement already satisfied: sortedcontainers in c:\\users\\manna\\appdata\\local\\programs\\python\\python312\\lib\\site-packages (from trio~=0.17->selenium) (2.4.0)\n",
      "Requirement already satisfied: idna in c:\\users\\manna\\appdata\\local\\programs\\python\\python312\\lib\\site-packages (from trio~=0.17->selenium) (3.4)\n",
      "Requirement already satisfied: outcome in c:\\users\\manna\\appdata\\local\\programs\\python\\python312\\lib\\site-packages (from trio~=0.17->selenium) (1.3.0.post0)\n",
      "Requirement already satisfied: sniffio>=1.3.0 in c:\\users\\manna\\appdata\\local\\programs\\python\\python312\\lib\\site-packages (from trio~=0.17->selenium) (1.3.0)\n",
      "Requirement already satisfied: cffi>=1.14 in c:\\users\\manna\\appdata\\local\\programs\\python\\python312\\lib\\site-packages (from trio~=0.17->selenium) (1.16.0)\n",
      "Requirement already satisfied: wsproto>=0.14 in c:\\users\\manna\\appdata\\local\\programs\\python\\python312\\lib\\site-packages (from trio-websocket~=0.9->selenium) (1.2.0)\n",
      "Requirement already satisfied: pysocks!=1.5.7,<2.0,>=1.5.6 in c:\\users\\manna\\appdata\\local\\programs\\python\\python312\\lib\\site-packages (from urllib3[socks]<3,>=1.26->selenium) (1.7.1)\n",
      "Requirement already satisfied: pycparser in c:\\users\\manna\\appdata\\local\\programs\\python\\python312\\lib\\site-packages (from cffi>=1.14->trio~=0.17->selenium) (2.21)\n",
      "Requirement already satisfied: h11<1,>=0.9.0 in c:\\users\\manna\\appdata\\local\\programs\\python\\python312\\lib\\site-packages (from wsproto>=0.14->trio-websocket~=0.9->selenium) (0.14.0)\n",
      "Note: you may need to restart the kernel to use updated packages.\n"
     ]
    },
    {
     "name": "stderr",
     "output_type": "stream",
     "text": [
      "\n",
      "[notice] A new release of pip is available: 24.3.1 -> 25.0\n",
      "[notice] To update, run: python.exe -m pip install --upgrade pip\n"
     ]
    }
   ],
   "source": [
    "pip install selenium"
   ]
  },
  {
   "cell_type": "code",
   "execution_count": 3,
   "metadata": {},
   "outputs": [],
   "source": [
    "from selenium import webdriver\n",
    "from selenium.webdriver.common.by import By"
   ]
  },
  {
   "cell_type": "code",
   "execution_count": 4,
   "metadata": {},
   "outputs": [],
   "source": [
    "dr=webdriver.Chrome()"
   ]
  },
  {
   "cell_type": "code",
   "execution_count": 5,
   "metadata": {},
   "outputs": [],
   "source": [
    "#opening wikipedia\n",
    "dr.get(\"https://www.wikipedia.org/\")"
   ]
  },
  {
   "cell_type": "code",
   "execution_count": 6,
   "metadata": {},
   "outputs": [],
   "source": [
    "search=dr.find_element(By.XPATH,\"//input[@id='searchInput']\")"
   ]
  },
  {
   "cell_type": "code",
   "execution_count": 7,
   "metadata": {},
   "outputs": [],
   "source": [
    "search.send_keys(\"Prabhas\")"
   ]
  },
  {
   "cell_type": "code",
   "execution_count": 8,
   "metadata": {},
   "outputs": [],
   "source": [
    "button = dr.find_element(By.XPATH,\"//button[@type='submit']\")"
   ]
  },
  {
   "cell_type": "code",
   "execution_count": 10,
   "metadata": {},
   "outputs": [
    {
     "ename": "NoSuchElementException",
     "evalue": "Message: no such element: Unable to locate element: {\"method\":\"xpath\",\"selector\":\"//div[@id='bodyContent']\"}\n  (Session info: chrome=132.0.6834.111); For documentation on this error, please visit: https://www.selenium.dev/documentation/webdriver/troubleshooting/errors#no-such-element-exception\nStacktrace:\n\tGetHandleVerifier [0x00007FF622F902F5+28725]\n\t(No symbol) [0x00007FF622EF2AE0]\n\t(No symbol) [0x00007FF622D8510A]\n\t(No symbol) [0x00007FF622DD93D2]\n\t(No symbol) [0x00007FF622DD95FC]\n\t(No symbol) [0x00007FF622E23407]\n\t(No symbol) [0x00007FF622DFFFEF]\n\t(No symbol) [0x00007FF622E20181]\n\t(No symbol) [0x00007FF622DFFD53]\n\t(No symbol) [0x00007FF622DCA0E3]\n\t(No symbol) [0x00007FF622DCB471]\n\tGetHandleVerifier [0x00007FF6232BF30D+3366989]\n\tGetHandleVerifier [0x00007FF6232D12F0+3440688]\n\tGetHandleVerifier [0x00007FF6232C78FD+3401277]\n\tGetHandleVerifier [0x00007FF62305AAAB+858091]\n\t(No symbol) [0x00007FF622EFE74F]\n\t(No symbol) [0x00007FF622EFA304]\n\t(No symbol) [0x00007FF622EFA49D]\n\t(No symbol) [0x00007FF622EE8B69]\n\tBaseThreadInitThunk [0x00007FFAF944259D+29]\n\tRtlUserThreadStart [0x00007FFAFB1AAF38+40]\n",
     "output_type": "error",
     "traceback": [
      "\u001b[1;31m---------------------------------------------------------------------------\u001b[0m",
      "\u001b[1;31mNoSuchElementException\u001b[0m                    Traceback (most recent call last)",
      "Cell \u001b[1;32mIn[10], line 1\u001b[0m\n\u001b[1;32m----> 1\u001b[0m data\u001b[38;5;241m=\u001b[39m\u001b[43mdr\u001b[49m\u001b[38;5;241;43m.\u001b[39;49m\u001b[43mfind_element\u001b[49m\u001b[43m(\u001b[49m\u001b[43mBy\u001b[49m\u001b[38;5;241;43m.\u001b[39;49m\u001b[43mXPATH\u001b[49m\u001b[43m,\u001b[49m\u001b[38;5;124;43m\"\u001b[39;49m\u001b[38;5;124;43m//div[@id=\u001b[39;49m\u001b[38;5;124;43m'\u001b[39;49m\u001b[38;5;124;43mbodyContent\u001b[39;49m\u001b[38;5;124;43m'\u001b[39;49m\u001b[38;5;124;43m]\u001b[39;49m\u001b[38;5;124;43m\"\u001b[39;49m\u001b[43m)\u001b[49m\n",
      "File \u001b[1;32mc:\\Users\\manna\\AppData\\Local\\Programs\\Python\\Python312\\Lib\\site-packages\\selenium\\webdriver\\remote\\webdriver.py:888\u001b[0m, in \u001b[0;36mWebDriver.find_element\u001b[1;34m(self, by, value)\u001b[0m\n\u001b[0;32m    885\u001b[0m         \u001b[38;5;28;01mraise\u001b[39;00m NoSuchElementException(\u001b[38;5;124mf\u001b[39m\u001b[38;5;124m\"\u001b[39m\u001b[38;5;124mCannot locate relative element with: \u001b[39m\u001b[38;5;132;01m{\u001b[39;00mby\u001b[38;5;241m.\u001b[39mroot\u001b[38;5;132;01m}\u001b[39;00m\u001b[38;5;124m\"\u001b[39m)\n\u001b[0;32m    886\u001b[0m     \u001b[38;5;28;01mreturn\u001b[39;00m elements[\u001b[38;5;241m0\u001b[39m]\n\u001b[1;32m--> 888\u001b[0m \u001b[38;5;28;01mreturn\u001b[39;00m \u001b[38;5;28;43mself\u001b[39;49m\u001b[38;5;241;43m.\u001b[39;49m\u001b[43mexecute\u001b[49m\u001b[43m(\u001b[49m\u001b[43mCommand\u001b[49m\u001b[38;5;241;43m.\u001b[39;49m\u001b[43mFIND_ELEMENT\u001b[49m\u001b[43m,\u001b[49m\u001b[43m \u001b[49m\u001b[43m{\u001b[49m\u001b[38;5;124;43m\"\u001b[39;49m\u001b[38;5;124;43musing\u001b[39;49m\u001b[38;5;124;43m\"\u001b[39;49m\u001b[43m:\u001b[49m\u001b[43m \u001b[49m\u001b[43mby\u001b[49m\u001b[43m,\u001b[49m\u001b[43m \u001b[49m\u001b[38;5;124;43m\"\u001b[39;49m\u001b[38;5;124;43mvalue\u001b[39;49m\u001b[38;5;124;43m\"\u001b[39;49m\u001b[43m:\u001b[49m\u001b[43m \u001b[49m\u001b[43mvalue\u001b[49m\u001b[43m}\u001b[49m\u001b[43m)\u001b[49m[\u001b[38;5;124m\"\u001b[39m\u001b[38;5;124mvalue\u001b[39m\u001b[38;5;124m\"\u001b[39m]\n",
      "File \u001b[1;32mc:\\Users\\manna\\AppData\\Local\\Programs\\Python\\Python312\\Lib\\site-packages\\selenium\\webdriver\\remote\\webdriver.py:429\u001b[0m, in \u001b[0;36mWebDriver.execute\u001b[1;34m(self, driver_command, params)\u001b[0m\n\u001b[0;32m    427\u001b[0m response \u001b[38;5;241m=\u001b[39m \u001b[38;5;28mself\u001b[39m\u001b[38;5;241m.\u001b[39mcommand_executor\u001b[38;5;241m.\u001b[39mexecute(driver_command, params)\n\u001b[0;32m    428\u001b[0m \u001b[38;5;28;01mif\u001b[39;00m response:\n\u001b[1;32m--> 429\u001b[0m     \u001b[38;5;28;43mself\u001b[39;49m\u001b[38;5;241;43m.\u001b[39;49m\u001b[43merror_handler\u001b[49m\u001b[38;5;241;43m.\u001b[39;49m\u001b[43mcheck_response\u001b[49m\u001b[43m(\u001b[49m\u001b[43mresponse\u001b[49m\u001b[43m)\u001b[49m\n\u001b[0;32m    430\u001b[0m     response[\u001b[38;5;124m\"\u001b[39m\u001b[38;5;124mvalue\u001b[39m\u001b[38;5;124m\"\u001b[39m] \u001b[38;5;241m=\u001b[39m \u001b[38;5;28mself\u001b[39m\u001b[38;5;241m.\u001b[39m_unwrap_value(response\u001b[38;5;241m.\u001b[39mget(\u001b[38;5;124m\"\u001b[39m\u001b[38;5;124mvalue\u001b[39m\u001b[38;5;124m\"\u001b[39m, \u001b[38;5;28;01mNone\u001b[39;00m))\n\u001b[0;32m    431\u001b[0m     \u001b[38;5;28;01mreturn\u001b[39;00m response\n",
      "File \u001b[1;32mc:\\Users\\manna\\AppData\\Local\\Programs\\Python\\Python312\\Lib\\site-packages\\selenium\\webdriver\\remote\\errorhandler.py:232\u001b[0m, in \u001b[0;36mErrorHandler.check_response\u001b[1;34m(self, response)\u001b[0m\n\u001b[0;32m    230\u001b[0m         alert_text \u001b[38;5;241m=\u001b[39m value[\u001b[38;5;124m\"\u001b[39m\u001b[38;5;124malert\u001b[39m\u001b[38;5;124m\"\u001b[39m]\u001b[38;5;241m.\u001b[39mget(\u001b[38;5;124m\"\u001b[39m\u001b[38;5;124mtext\u001b[39m\u001b[38;5;124m\"\u001b[39m)\n\u001b[0;32m    231\u001b[0m     \u001b[38;5;28;01mraise\u001b[39;00m exception_class(message, screen, stacktrace, alert_text)  \u001b[38;5;66;03m# type: ignore[call-arg]  # mypy is not smart enough here\u001b[39;00m\n\u001b[1;32m--> 232\u001b[0m \u001b[38;5;28;01mraise\u001b[39;00m exception_class(message, screen, stacktrace)\n",
      "\u001b[1;31mNoSuchElementException\u001b[0m: Message: no such element: Unable to locate element: {\"method\":\"xpath\",\"selector\":\"//div[@id='bodyContent']\"}\n  (Session info: chrome=132.0.6834.111); For documentation on this error, please visit: https://www.selenium.dev/documentation/webdriver/troubleshooting/errors#no-such-element-exception\nStacktrace:\n\tGetHandleVerifier [0x00007FF622F902F5+28725]\n\t(No symbol) [0x00007FF622EF2AE0]\n\t(No symbol) [0x00007FF622D8510A]\n\t(No symbol) [0x00007FF622DD93D2]\n\t(No symbol) [0x00007FF622DD95FC]\n\t(No symbol) [0x00007FF622E23407]\n\t(No symbol) [0x00007FF622DFFFEF]\n\t(No symbol) [0x00007FF622E20181]\n\t(No symbol) [0x00007FF622DFFD53]\n\t(No symbol) [0x00007FF622DCA0E3]\n\t(No symbol) [0x00007FF622DCB471]\n\tGetHandleVerifier [0x00007FF6232BF30D+3366989]\n\tGetHandleVerifier [0x00007FF6232D12F0+3440688]\n\tGetHandleVerifier [0x00007FF6232C78FD+3401277]\n\tGetHandleVerifier [0x00007FF62305AAAB+858091]\n\t(No symbol) [0x00007FF622EFE74F]\n\t(No symbol) [0x00007FF622EFA304]\n\t(No symbol) [0x00007FF622EFA49D]\n\t(No symbol) [0x00007FF622EE8B69]\n\tBaseThreadInitThunk [0x00007FFAF944259D+29]\n\tRtlUserThreadStart [0x00007FFAFB1AAF38+40]\n"
     ]
    }
   ],
   "source": [
    "data=dr.find_element(By.XPATH,\"//div[@id='bodyContent']\")"
   ]
  },
  {
   "cell_type": "code",
   "execution_count": 45,
   "metadata": {},
   "outputs": [
    {
     "name": "stdout",
     "output_type": "stream",
     "text": [
      "From Wikipedia, the free encyclopedia\n",
      "This article is about the actor born in 1979. For other uses, see Prabhas (disambiguation).\n",
      "Prabhas\n",
      "Prabhas at the 2023 San Diego Comic-Con\n",
      "Born Uppalapati Venkata Suryanarayana Prabhas Raju[1][2]\n",
      "23 October 1979 (age 45)[3]\n",
      "Madras (now Chennai), Tamil Nadu, India\n",
      "Education Sri Chaitanya College, Hyderabad (BTech)\n",
      "Occupation Actor\n",
      "Years active 2002–present\n",
      "Works Full list\n",
      "Father Uppalapati Surya Narayana Raju\n",
      "Relatives Krishnam Raju (uncle)\n",
      "Awards Full list\n",
      "Uppalapati Venkata Suryanarayana Prabhas Raju ([pɾabʱaːs] born 23 October 1979), known mononymously as Prabhas, is an Indian actor who predominantly works in Telugu cinema.[4] He is one of the highest-paid actors in Indian cinema and has been featured in Forbes India's Celebrity 100 list since 2015.[9] Referred to in the media as the \"Rebel Star\", he has appeared in over 20 films, and has received seven Filmfare Awards nominations, a Nandi Award, and a SIIMA Award.[10][11]\n",
      "Prabhas made his acting debut with the drama Eeswar (2002), and later attained his breakthrough with the action romance Varsham (2004). He went on to star in other commercially successful films such as Chatrapathi (2005), Bujjigadu (2008), Billa (2009), Darling (2010), Mr. Perfect (2011), and Mirchi (2013), winning the Nandi Award for Best Actor for his performance in the lattermost.[12][13] He went on to play a dual role in the epic action duology Baahubali: The Beginning (2015) and Baahubali 2: The Conclusion (2017), with the latter emerging as the highest-grossing Indian film at that point, establishing Prabhas as the first pan-Indian star.[14][15][16][17] After a brief period of decline, he made a career comeback with the action drama Salaar: Part 1 – Ceasefire (2023) and the science fiction film Kalki 2898 AD (2024).[18][19]\n",
      "Prabhas is the only Indian actor to have six films with a worldwide gross opening of over ₹100 crore. He is also the only South Indian actor with six films that have crossed the ₹100 crore nett mark in the Hindi market. Additionally, Prabhas is the first South Indian actor to receive a wax sculpture at a Madame Tussaud's museum.[20]\n",
      "Early life and education\n",
      "Prabhas was born on 23 October 1979 in a Telugu family to film producer Uppalapati Surya Narayana Raju and Siva Kumari in Madras (now Chennai). The youngest of three children, he has an elder brother, Prabodh, and elder sister, Pragathi.[3][21][22] He is the nephew of Telugu film actor Krishnam Raju.[3] His family hails from Mogalthur, near Bhimavaram of West Godavari district, Andhra Pradesh.[23]\n",
      "Prabhas did his schooling at Don Bosco Matriculation Higher Secondary School, Chennai, and at DNR High School, Bhimavaram.[24] He then completed his intermediate education from Nalanda College, Hyderabad.[25][24] He later went on to pursue Bachelor of Technology (B.Tech) from Sri Chaitanya College, Hyderabad.[26] He is also an alumnus of Satyanand Film Institute, Visakhapatnam.[27]\n",
      "Career\n",
      "2002–2014: Early work and career progression\n",
      "Prabhas made his debut with the 2002 action drama Eeswar. In 2003, he followed up with Raghavendra, which received mixed reviews while Idlebrain stated that Prabhas is so good in this film that you can watch it only for him, he is the superstar in making, and all he needs is the right director and right break.[28] He attained his breakthrough with the action romance Varsham (2004), which went on to be a blockbuster and one of the highest grossing Telugu films of the year.[29] He received his first nomination for the Filmfare Award for Best Actor – Telugu. He appeared in Adavi Raamudu (2004), the same year which received mostly negative reception from the critics and audience alike. In 2005, he appeared in Chakram, which received mixed reviews and went on to win two Nandi Awards.[30] Prabhas portrayed the role of a refugee, exploited by goons, in S. S. Rajamouli's action drama Chatrapathi, the same year. It emerged as a blockbuster and had a 100-day run in 54 centers.[31] Idlebrain.com stated that \"he had a unique style and macho charm in his screen presence\".[32] Chatrapathi earned him his second nomination for the Filmfare Award for Best Actor – Telugu.\n",
      "In 2006, Prabhas starred in the musical drama Pournami, which garnered mixed critical reception but earned praise for the cast's performances. In 2007, he starred in action drama Yogi and Munna, both of which received lukewarm response from both audience and fans alike. In 2008, Prabhas collaborated with the director Puri Jagannadh for action-comedy Bujjigadu which gave him a much needed box-office comeback and he received critical acclaim for his performance.[33] In 2009, Prabhas played a dual role in the action thriller Billa (2009), which went on to be a blockbuster at box-office.[34] Later that year, he starred in Ek Niranjan (2009), which opened to mixed reviews, and earned him his third nomination for the Filmfare Award for Best Actor – Telugu.\n",
      "In 2010, he appeared in the romantic comedy Darling which received positive reviews from audiences and critics. It went on to be one of the highest grossers of the year and critics lauded Prabhas's performance, as the major highlight of the film.[35] The Times of India noted the film to be derivative and that the director hasn't really come out of his previous work Tholi Prema.[36] In 2011, Prabhas starred in romantic drama Mr. Perfect, which received positive reviews and went on to be a blockbuster. His performance in the film earned him his fourth nomination for the Filmfare Award for Best Actor – Telugu. The Statesman described the film as a \"timeless classic\".[37] The review site GreatAndhra rated the film with three stars and noted \"The film comes across as a clean, family entertainer and the intention of the makers must be appreciated.[38] In 2024, the film was re-released in Japan, garnering unanimous positive responses from the fans and the audiences alike, with every show selling out.[39]\n",
      "In 2012, Prabhas starred in the action Rebel, received mixed reviews from critics and underperformed at the box office. It was praised for cast performances, action sequences, and production values, but criticised for its plot and screenplay. The Times of India and NDTV stated that, the film serves up fare for the mass audience, and hard-core Prabhas fans.[40][41] He also rendered his voice for a short duration in the film Denikaina Ready (2012).[42] In 2013, Prabhas starred in Mirchi, which opened to positive reviews and went on to be a blockbuster. It was one of the highest grossing Telugu films of the year as well as one of the highest-grossing Telugu films of all time, at the time of its release.[43] His performance in the film earned him his fifth nomination for the Filmfare Award for Best Actor – Telugu. NDTV gave the film a mixed review, stating that \"apart from good direction and strong performance by the lead actor, Mirchi lacks narrative power and is loosely based on an amalgamation of some old films\".[44] Idlebrain stated that \"Mirchi is a film that is made to do a commercial hit. Prabhas entertains with Mirchi and director does a decent work. On a whole, Mirchi has all the ingredients of a commercial potboiler\".[45] He then made his Hindi cinema debut in 2014 in the special dance number \"Punjabi Mast\" from the film Action Jackson.[46]\n",
      "2015–present: Pan-India success, setback and resurgence\n",
      "Prabhas on the sets of Baahubali 2: The Conclusion\n",
      "In 2015, Prabhas played a dual role as Shivudu/Mahendra Baahubali and Amarendra Baahubali in S.S. Rajamouli's epic action drama Baahubali: The Beginning (2015). With a budget of ₹180 crore ($28 million), it was the most expensive Indian film ever made at the time of release,[47] and became a record-breaking box office success. The film eventually grossed over ₹600 crore (US$69 million) worldwide, making it the highest-grossing Telugu film and the second highest-grossing Indian film at that point. It is one of the highest-grossing Indian film to date.[48][49][50] It received national and international acclaim, and started a new film movement called Pan-Indian films.\n",
      "Prabhas reprised his role in its sequel, Baahubali 2: The Conclusion (2017), with a budget of ₹250 crore ($36.87 million), it was the most expensive Indian film ever produced at the time of release.[51] It became the first Indian film ever to gross over ₹1,000 crore (US$120 million) worldwide in just ten days, first Indian film to gross ₹100 crore (US$12 million) and ₹200 crore (US$23 million) on its opening day, and highest-grossing Indian film at that point. The film eventually grossed over ₹1,810 crore (US$210 million) worldwide, making it second-highest-grossing Indian film worldwide to date and the highest-grossing film in India till date.[52][53][54]\n",
      "Prabhas dedicated 5 years for the duology, stating that the project demanded a certain level of dedication and refrained from signing any other project over the tenure.[55][56] He underwent rigorous training to prepare for his dual role in the film. For the character of Shivudu, he reduced his weight to a lean 86-88 kilograms with a minimal body fat percentage of 5-6%. Conversely, for the role of Baahubali, he significantly had to increase his weight to a bulky 105 kilograms with a body fat composition of 8-10%.[57][58] He won the SIIMA Award for Best Actor – Telugu for his performance in The Conclusion.[59] His performance in both film earned him his sixth and seventh nominations for the Filmfare Award for Best Actor – Telugu. The success of Baahubali series propelled Prabhas to become the first “Pan-Indian\" star in Indian cinema, receiving significant following across India.[60][61]\n",
      "Prabhas on the sets of Saaho\n",
      "In 2019, Prabhas starred in Sujeeth's action thriller Saaho.[62] Saaho opened to mixed reviews and grossed ₹130 crore worldwide on its opening day, making it Prabhas's second ₹100 crore opening day grosser. The film eventually grossed over ₹419 crore (US$48 million) at the box-office.[63] The Telugu version of the film underperformed, while the Hindi version was a hit.[64][65] In 2022, Prabhas appeared in the period romance drama Radhe Shyam which received poor reviews from critics & proved to be a box office bomb.[66][67][68] In 2023, Prabhas portrayed Lord Ram in the mythological action film Adipurush, an adaptation of Hindu epic the Ramayana.[69] It received highly negative response from critics as well as the audience, who criticised the film's screenplay and visuals, and turned out to be another box-office bomb for the actor.[70]\n",
      "Prabhas went on to star in Prashanth Neel's action drama Salaar: Part 1 – Ceasefire (2023), the same year.[71] The film opened to positive reviews and grossed ₹176 crore worldwide on its opening day.[72] It eventually grossed over ₹705 crore (US$81 million) worldwide and proved to be a comeback film for him.[73] In 2024, he starred in Nag Ashwin's epic science fiction film Kalki 2898 AD.[74][75] Made on a ₹600 crore (US$69 million) production budget, it is the most expensive Indian film.[76] Kalki 2898 AD grossed over ₹191 crore worldwide on its opening day, which was the third highest first day gross for an Indian film, and making it the fifth and third consecutive ₹100 crore opener worldwide for Prabhas, a feat unheard of in Indian cinema.[77] Rahul Malhotra of Collider quotes that Kalki 2898 AD’s resounding opening cements \"Prabhas as one of the biggest Indian movie stars of his generation\".[78] The film grossed over ₹1,100 crore (US$130 million) at the box-office, making it the second ₹1,000 crore (US$120 million) film for Prabhas.[79][80]\n",
      "Upcoming projects\n",
      "Prabhas has several upcoming films in various stages of production.[81] In April 2025, he will feature in Kannappa, a mythological drama,[82] in a cameo role and The Raja Saab, a romantic horror-comedy, where he plays the lead role in an ancestral property dispute tale.[83] In 2026, Prabhas will appear in Salaar: Part 2 – Shouryaanga Parvam, the sequel to Salaar;[84] and Spirit, an anti-hero grindhouse drama directed by Sandeep Reddy Vanga.[85] In 2027, he is set to reprise his role as the main protagonist in the epic dystopian sci-fi Kalki 2898 AD - Part 2, re-portraying dual roles of Bhairava and Karna; and Fauji, a patriotic historical action-drama film directed by Hanu Raghavapudi.[86]\n",
      "Prabhas has also entered into a three-film agreement with Hombale Films, the production company responsible for notable successes such as KGF, Kantara and Salaar. The partnership will commence with Salaar: Part 2 – Shouryaanga Parvam in 2026, with the subsequent untitled films tentatively scheduled for release in 2027 and 2028.[87]\n",
      "Humanitarian and social causes\n",
      "Prabhas has been vocal of the Swachh Bharat Mission (SBM) and featured in promotional campaigns such as Prime Minister Narendra Modi’s ‘Swachhata Hi Seva’ mission.[88] In 2020, Prabhas donated ₹4 crore (US$460,000) for the cause of combating against the COVID-19 pandemic. Of this, ₹3 crore was given to the Prime Minister's National Relief Fund, while ₹50 lakh each went to the Chief Minister Relief Funds of Andhra Pradesh and Telangana.[89] He adopted 1,650 acres of Khazipally Reserve Forest near Hyderabad and donated ₹2 crore (US$230,000) for the development of the eco-park in the name of his late father Uppalapati Surya Narayana Raju, in 2020.[90] He also donated a total of ₹8 lakh (US$9,200) to the Lions Club of Hyderabad Sadhuram Eye Hospital.[91]\n",
      "In 2021, he donated ₹1 crore (US$120,000) to the Andhra Pradesh Chief Minister’s Relief Fund (CMRF) to help all those who have been affected due to the heavy rainfall in several parts of the state.[92] In 2023, he donated a sum of ₹10 lakh (US$12,000) for the development of Sri Seetha Ramachandra Swamy Devathanam at Bhadrachalam.[93] In 2024, he donated a sum of ₹35 lakh (US$40,000) to the Telugu Film Directors Association (TFDA) to support the welfare of the cinema worker's body.[94] Prabhas donated a sum of ₹2 crore (US$230,000) to the Kerala Chief Minister's Relief Fund, to help the victims of the 2024 Wayanad landslides.[95][96] Prabhas donated a sum of ₹2 crore (US$230,000) to aid flood relief efforts in Andhra Pradesh and Telangana, with ₹1 crore (US$120,000) each allocated to the Chief Minister Relief Funds of both states.[97][98]\n",
      "Media image and other work\n",
      "Prabhas is the first Indian actor ever to be referred to as “Pan-India” star.[61][99][100] Film journalists and analysts, such as Baradwaj Rangan and Vishal Menon, have labelled him as the first of the kind in Indian cinema.[15][101] Prabhas is considered as \"a flagbearer of introducing the trend of Pan-India films in the nation\".[102]\n",
      "Prabhas is referred to in the media and by his fans as the \"Rebel Star\" and \"Darling\".[103][104] He was ranked second in Times' Most Desirable Men for the year 2017,[105] and twelfth in 2018.[106] He was then added to the Forever Desirable list of Hyderabad Times in 2019.[107][108] He was the most searched actor on Google in Karnataka, for the year 2019.[109] He is the only actor from South Indian cinema to feature in the magazine Eastern Eye's 2019 listing of the 10 Sexiest Asian Men.[110][111] He was also featured in the GQ in their listing of the most influential young Indians of 2017.[112]\n",
      "Prabhas, generally does not endorse brands or appear in advertisements.[113] However, in 2015, he was signed on by Mahindra & Mahindra as brand ambassador for the new Mahindra TUV300 car, making his debut in the television commercial arena.[114] News 18 reported that he rejected brand endorsements worth ₹150 crore (US$17 million) in 2020.[115]\n",
      "Filmography and awards\n",
      "Main article: Prabhas filmography and awards\n",
      "References\n",
      "^ \"Rapid Fire round with Prabhas and Shraddha Kapoor during Saaho Dubai promotions\". 10 October 2019. Archived from the original on 28 October 2021. Retrieved 7 September 2020 – via YouTube. time 3:00 to 3:20\n",
      "^ \"15 Interesting Facts About Prabhas You Should Know Before Calling Yourself His Biggest Fan!\". The Times of India. 13 May 2017. Archived from the original on 14 May 2017. Retrieved 14 May 2017. His full name is .\n",
      "^\n",
      "a b c \"Happy birthday Prabhas: Six lesser known facts about the Baahubali actor\". The Indian Express. 23 October 2016. Archived from the original on 23 February 2017. Retrieved 18 March 2017. Actor Prabhas turned 37 on Sunday.\n",
      "^ Tartaglione, Nancy (23 December 2023). \"Prabhas On 'Salaar: Part I – Ceasefire', Its Sequel & The Evolving Indian Cinema Industry\". Deadline. Retrieved 4 February 2024.\n",
      "^ One of the highest paid actors,\n",
      "Sreeja, Addla (9 July 2023). \"Highest paid actor Prabhas' FEE for his next movie Salaar\". The Siasat Daily. Archived from the original on 7 August 2023. Retrieved 7 August 2023.\n",
      "\"Allu Arjun breaks Prabhas's record, becomes highest-paid star in the Telugu film industry\". The Times of India. 10 March 2023. Archived from the original on 7 August 2023. Retrieved 7 August 2023.\n",
      "\"EXCLUSIVE: Prabhas emerges the HIGHEST PAID ACTOR of India – charges Rs. 150 crores\". Bollywood Hungama. 23 November 2021. Archived from the original on 9 March 2022. Retrieved 1 February 2022.\n",
      "^ \"Prabhas – Forbes India Magazine\". Forbes India. Archived from the original on 14 April 2021. Retrieved 5 December 2020.\n",
      "^ \"2017 Celebrity 100 – Forbes India Magazine\". Forbes India. Archived from the original on 2 June 2020. Retrieved 5 December 2020.\n",
      "^ \"Prabhas – Forbes India Magazine\". Forbes India. Archived from the original on 21 April 2021. Retrieved 5 December 2020.\n",
      "^ [5][6][7][8]\n",
      "^ K., Sayanthana (16 December 2023). \"'Natural Star' Nani, 'Rebel Star' Prabhas, 'Stylish Star' Allu Arjun: Popular tags given to stars from fans!\". The Times of India. ISSN 0971-8257. Retrieved 3 July 2024.\n",
      "^ \"When 'Young Rebel Star' Prabhas revealed he is not comfortable with such titles\". Hindustan Times. 23 October 2023. Retrieved 4 July 2024.\n",
      "^ \"India's most expensive film?\". Hindustan Times. 15 July 2013. Archived from the original on 18 July 2013.\n",
      "^ \"Bahubali wins national award for Best Film\". The Times of India. 28 March 2016. Archived from the original on 31 March 2016. Retrieved 28 April 2016.\n",
      "^ \"Top Worldwide Figures – All Formats And Hindi\". Box Office India. Archived from the original on 27 March 2019. Retrieved 5 March 2020.\n",
      "^\n",
      "a b \"Is Prabhas India's First Legit Pan Indian Star?'\". Film Companion. 20 August 2020. Retrieved 7 February 2024.\n",
      "^ \"From Baahubali to Kalki: Rebel star Prabhas' is the biggest Pan Indian superstar\". Moneycontrol. 24 July 2024. Retrieved 22 September 2024.\n",
      "^ K, Janani (23 December 2023). \"Prabhas decoded: How and why 'Salaar' star is a pan-India superstar\". India Today. Chennai. Retrieved 22 September 2024.\n",
      "^ \"Salaar Worldwide Box Office Update\". Box Office India. 5 January 2024.\n",
      "^ \"Prabhas dominates box office with Kalki 2898 AD earns more than Rs 1000 crore worldwide, following Baahubali 2 triumph\". 12 July 2024.\n",
      "^ \"Baahubali 2 star Prabhas becomes first South Indian actor to get a wax statue at Madame Tussauds. See pics\". The Indian Express. 2 May 2017. Archived from the original on 15 April 2018. Retrieved 14 April 2018.\n",
      "^ \"Actor Prabhas's brother sentenced to one year imprisonment in cheque bounce case\". The News Minute. 16 March 2016. Archived from the original on 9 January 2019. Retrieved 8 January 2019.\n",
      "^ Mishra, Rashmi (26 May 2018). \"Bahubali 2 Movie Star Cast Educational Qualifications: Prabhas, Anushka Shetty & others are a studious bunch of actors!\". India.com. Archived from the original on 9 January 2019. Retrieved 8 January 2019.\n",
      "^ Pavan, P (28 April 2017). \"Bahubali 2: Police imposes Section 144 in Prabhas's hometown\". Mumbai Mirror. Archived from the original on 11 January 2021. Retrieved 16 March 2021.\n",
      "^\n",
      "a b \"Prabhas rejected over 6000 marriage proposals\". The Times of India. Archived from the original on 14 November 2022. Retrieved 14 November 2022.\n",
      "^ Reddy, R. Ravikanth (10 June 2017). \"Bahubali's school adopts Kilimanjaro girl\". The Hindu. ISSN 0971-751X. Archived from the original on 2 June 2021. Retrieved 14 March 2021.\n",
      "^ MUKHERJEE, RUMI (22 September 2023). \"Sai Pallavi, Prabhas to R Madhavan: 8 Celebs and their real educational qualification\".\n",
      "^ \"The fresh faces of Kannada cinema\". Cinema Express. 1 January 2019. Archived from the original on 19 January 2021. Retrieved 14 March 2021.\n",
      "^ \"Telugu Cinema - Review - Raghavendra - Prabhas, Anshu, Swetha Agarwal - Suresh Krishna - Posani\". www.idlebrain.com. Retrieved 28 July 2024.\n",
      "^ Web, Statesman (21 July 2023). \"Top 5 Prabhas movies: Baahubali to Varsham\". The Statesman. Retrieved 28 July 2024.\n",
      "^ \"Prabhas, Asin-starrer Chakram Completes 17 Years of Release\". News18. 26 March 2022. Retrieved 28 July 2024.\n",
      "^ Chatrapati – Telugu cinema – 100 days centers – Prabhas & Shriya Archived 13 September 2015 at the Wayback Machine. Idlebrain.com. Retrieved 28 April 2016.\n",
      "^ Chatrapati – Telugu cinema Review – Prabhas, Shriya Archived 13 October 2005 at the Wayback Machine. Idlebrain.com (29 September 2005). Retrieved 28 April 2016.\n",
      "^ \"Prabhas: Living the role\". The Times of India. 7 June 2008. ISSN 0971-8257. Retrieved 28 July 2024.\n",
      "^ \"On Prabhas' 43rd Birthday, Billa and Varsham to Hit Theatres Again\". News18. 10 September 2022. Retrieved 28 July 2024.\n",
      "^ \"Movie Review : Darling\". Sify. 13 July 2013. Archived from the original on 13 July 2013. Retrieved 28 July 2024.\n",
      "^ \"Darling Review\". The Times of India. Archived from the original on 5 November 2012. Retrieved 24 April 2010.\n",
      "^ Web, Statesman (13 May 2024). \"Prabhas's 'Mr Perfect' sparks fan frenzy in Japan\". The Statesman. Retrieved 28 July 2024.\n",
      "^ \"'Mr Perfect' Review: Perfect With Slight Imperfection\". greatandhra. Archived from the original on 25 April 2011. Retrieved 21 April 2011.\n",
      "^ \"Prabhas' Mr. Perfect, 13 Year old Movie Screened in Japan, 'shows go Housefull'\". 18 July 2024. Archived from the original on 18 July 2024. Retrieved 28 July 2024.\n",
      "^ \"Prabhas' Rebel Telugu movie review highlights\". The Times of India. Archived from the original on 16 January 2014. Retrieved 28 September 2012.\n",
      "^ \"Rebel movie review\". New Delhi: NDTV. Archived from the original on 30 September 2012. Retrieved 28 September 2012.\n",
      "^ \"Denikaina Ready audio on Sep 23\". The Times of India. TNN. 12 September 2012. Archived from the original on 27 August 2017. Retrieved 14 June 2015.\n",
      "^ \"Prabhas' Top 10 Highest Grossing Films\". www.timesnownews.com. Retrieved 30 July 2024.\n",
      "^ \"Movie Review: Mirchi | NDTV Movies.com\". 11 February 2013. Archived from the original on 11 February 2013. Retrieved 30 July 2024.\n",
      "^ \"Prabhas Mirchi review - Telugu/Tamil cinema - Prabhas, Anushka, Richa Gangopadhyay\". www.idlebrain.com. Retrieved 30 July 2024.\n",
      "^ \"Tuesday Trivia: Did you know Prabhas made a special appearance in THIS Bollywood film before becoming a pan-India star with Baahubali?\". Bollywood Life. 3 November 2020. Archived from the original on 25 June 2021. Retrieved 25 June 2021.\n",
      "^ McCahill, Mike (7 December 2015). \"Baahubali: The Beginning review – fantastic bang for your buck in most expensive Indian movie ever made\". The Guardian. Retrieved 3 July 2024.\n",
      "^ Oops... 'PK' Is Not Actually India's Top-Grossing Movie Ever Archived 14 August 2016 at the Wayback Machine. Forbes.com (14 August 2015). Retrieved 28 April 2016.\n",
      "^ \"'Baahubali' Zooms Past 'Dhoom', Now India's All Time #3\". Forbes. Archived from the original on 1 August 2017. Retrieved 8 September 2017.\n",
      "^ McCahill, Mike (12 July 2015). \"Baahubali: The Beginning review – fantastic bang for your buck in most expensive Indian movie ever made\". The Guardian. Archived from the original on 14 August 2015. Retrieved 12 December 2016.\n",
      "^ McCahill, Mike (28 April 2017). \"Baahubali 2: The Conclusion review – joyous action epic soars\". the Guardian. ISSN 0261-3077. Retrieved 3 July 2024.\n",
      "^ \"Bahubali 2 Hits 1000 Crore Worldwide In Ten Days\". Box Office India. Archived from the original on 19 November 2020. Retrieved 5 December 2020.\n",
      "^ \"Baahubali 2's Rs 1000 crore collection: How SS Rajamouli's film achieved its box office numbers\". First Post. 8 May 2017. Archived from the original on 17 May 2017. Retrieved 14 May 2017.\n",
      "^ Baahubali 2 Creates History, Becomes First Indian Movie Ever To Collect Rs 1,000 Crore Archived 20 May 2017 at the Wayback Machine. Ndtv.com (30 April 2017). Retrieved 8 May 2017.\n",
      "^ \"Baahubali Was Worth It. But Prabhas Says No More 5-Year Films\". NDTV.com. 14 October 2017. Retrieved 20 July 2024.\n",
      "^ SNS (25 April 2017). \"Baahubali: Battle wounds on Prabhas!\". The Statesman. Retrieved 28 July 2024.\n",
      "^ Correspondent, D. C. (22 April 2017). \"Exclusive: Baahubali stunts give Prabhas scars for life\". www.deccanchronicle.com. Retrieved 28 July 2024. {{cite web}}: |last= has generic name (help)\n",
      "^ \"Baahubali 2: 10 Things You Didn't Know About Prabhas\". NDTV.com. Archived from the original on 25 June 2021. Retrieved 25 June 2021.\n",
      "^ \"SIIMA Awards | 2018 | winners\". siima.in. Archived from the original on 4 June 2020. Retrieved 2 June 2020.\n",
      "^ \"How Prabhas Became a Pan-India Star and the Highest-paid Actor in the Country\". News18. 14 January 2022. Archived from the original on 12 March 2022. Retrieved 12 March 2022.\n",
      "^\n",
      "a b \"Prabhas is the only pan-India superstar at present; total budget of his 4 upcoming films are a huge Rs. 700 crores!\". Bollywood Hungama. 15 December 2020. Archived from the original on 24 October 2021. Retrieved 25 June 2021.\n",
      "^ \"Saaho (2019)\", Rotten Tomatoes, Fandango, archived from the original on 31 August 2019, retrieved 29 June 2024\n",
      "^ \"Saaho box office collection Day 1: Prabhas and Shraddha Kapoor film earns over Rs 100 cr\". Zee Business. 31 August 2019. Retrieved 1 July 2024.\n",
      "^ Hungama, Bollywood (12 September 2019). \"Saaho Box Office Collections – The Prabhas starrer Saaho (Hindi) is a hit, to do almost double of opening weekend business :Bollywood Box Office - Bollywood Hungama\". Bollywood Hungama. Retrieved 1 July 2024.\n",
      "^ \"Saaho Is Out in the South\". Box Office India. 9 September 2019. Archived from the original on 7 October 2019. Retrieved 8 September 2019.\n",
      "^ \"Radhe Shyam Movie Review : A love story whose destiny could have been something else…\". The Times of India. Archived from the original on 11 March 2022. Retrieved 11 March 2022.\n",
      "^ \"Prabhas and Pooja Hegde's love drama opens with mixed reception from the masses over the dull narrative\". DNA India. 11 March 2022. Archived from the original on 12 March 2022. Retrieved 12 March 2022. the film has received mixed responses from critics, criticising the weak narrative and unreal screenplay.\n",
      "^ \"Radhe Shyam – Movie\". Box Office India. Archived from the original on 6 April 2018. Retrieved 6 April 2018.\n",
      "^ Kumar, Anuj (16 June 2023). \"'Adipurush' movie review: Prabhas falters in this black-and-white retelling of the 'Ramayana'\". The Hindu. ISSN 0971-751X. Retrieved 4 February 2024.\n",
      "^ Gopalan, Krishna (30 June 2023). \"Prabhas' 'Adipurush' shows enough signs to be categorised a flop; OTT rights may be renegotiated\". Business Today. Archived from the original on 30 June 2023. Retrieved 12 September 2023.\n",
      "^ \"Salaar: Part 1 - Ceasefire\". Rotten Tomatoes.\n",
      "^ \"'Salaar' worldwide box office collection: Prabhas-starrer nears Rs 675 cr gross in 15 days\". Business Today. 6 January 2024. Retrieved 15 July 2024.\n",
      "^ \"Salaar In OTT: ఓటీటీలోకి సలార్.. ఇవాళ చూస్తారా?\". News18 తెలుగు (in Telugu). 19 January 2024. Retrieved 1 July 2024.\n",
      "^ K, Janani (24 July 2021). \"Prabhas gives first clap for Amitabh Bachchan as Nag Ashwin's sci-fi film goes on floors\". India Today. Archived from the original on 24 July 2021. Retrieved 24 July 2021.\n",
      "^ Jha, Subhash K. (27 November 2020). \"Amitabh Bachchan will feature in a full length role in Prabhas and Deepika Padukone starrer film\". Bollywood Hungama. Archived from the original on 8 June 2022. Retrieved 27 June 2024.\n",
      "^ Malhotra, Rahul (1 July 2024). \"'Kalki 2898 AD' Delivers the Biggest Global Box Office Debut in Indian Cinema History\". Collider. Retrieved 3 July 2024.\n",
      "^ \"Kalki 2898 AD worldwide box office collection day 1: Prabhas, Deepika Padukone's film collects ₹191.5 crore\". Hindustan Times. 28 June 2024. Retrieved 30 June 2024.\n",
      "^ Malhotra, Rahul (1 July 2024). \"'Kalki 2898 AD' Delivers the Biggest Global Box Office Debut in Indian Cinema History\". Collider. Retrieved 3 July 2024.\n",
      "^ \"Kalki 2898 AD box office collection day 29: Prabhas' sci-fi epic demolishes Rs 1100 crore mark worldwide, can it overtake Jawan?\". The Indian Express. 26 July 2024. Retrieved 30 July 2024.\n",
      "^ \"Prabhas dominates box office with Kalki 2898 AD earns more than Rs 1000 crore worldwide, following Baahubali 2 triumph\". 12 July 2024.\n",
      "^ \"Prabhas Movie Budget: मेगाबजट फिल्मों में नजर आएंगे प्रभास, स्पिरिट-कल्कि 2-द राजा साब-सालार सीक्वल भी शामिल\". Amar Ujala (in Hindi). Retrieved 17 November 2024.\n",
      "^ \"Prabhas' Look From Vishnu Manchu's Kannappa Gets LEAKED, Production House Announces Rs 5 Lac Reward To Find Perpetrator\". Times Now. 9 November 2024. Retrieved 17 November 2024.\n",
      "^ \"Prabhas' next The Raja Saab to have iconic remake song in its music album? Composer S Thaman spills beans\". PINKVILLA. 16 November 2024. Retrieved 17 November 2024.\n",
      "^ \"Prabhas starts filming 'Salaar: Part 2 – Shouryaanga Parvam'\". Deccan Herald. Retrieved 17 November 2024.\n",
      "^ \"Prabhas's Spirit to release in 2026, producer shares update on Ranbir's Animal Park\". India Today. 13 November 2024. Retrieved 17 November 2024.\n",
      "^ \"Prabhas begins new historical drama with director Hanu Raghavapudi, first look and pooja ceremony pics go viral\". The Times of India. 19 August 2024. ISSN 0971-8257. Retrieved 17 November 2024.\n",
      "^ \"Prabhas gets 3 releases in 3 years as per new deal with KGF makers, Salaar 2 first\". India Today. 8 November 2024. Retrieved 17 November 2024.\n",
      "^ \"Baahubali joins PM Modi's Swachhata Hi Seva campaign, says it is his habit to keep country clean\". Financialexpress. 30 September 2017. Retrieved 7 August 2024.\n",
      "^ \"Telugu actor Prabhas donates ₹4 crore for fight against coronavirus\". mint. 27 March 2020. Retrieved 23 May 2024.\n",
      "^ \"Prabhas Adopts 1,650 Acres of Khazipally Reserve Forest Near Hyderabad\". NDTV.com. Retrieved 23 May 2024.\n",
      "^ Subrahmanyam, V. V. (16 November 2020). \"Film star Prabhas' gesture\". The Hindu. ISSN 0971-751X. Retrieved 3 June 2024.\n",
      "^ \"Prabhas Donates Rs 1 Crore To Andhra Pradesh CM Relief Fund For Flood Victims\". News18. 7 December 2021. Retrieved 3 June 2024.\n",
      "^ \"Prabhas Donates Rs 10 Lakh For Development Of Sri Seetha Ramachandra Swamy Devathanam\". News18. 15 May 2023. Retrieved 30 July 2024.\n",
      "^ \"Prabhas donates Rs 35 lakh to Telugu Film Directors Association\". India Today. 23 April 2024. Retrieved 28 July 2024.\n",
      "^ \"Prabhas donates Rs 2 crore to Wayanad landslide relief fund\". India Today. 7 August 2024. Retrieved 7 August 2024.\n",
      "^ \"Rebel Star Prabhas Donates Rs 2 Crores For Kerala Landslide Relief Work\". Times Now. 7 August 2024. Retrieved 7 August 2024.\n",
      "^ \"Allu Arjun, Prabhas, Mahesh Babu Donate For Flood-Hit Regions Of Andhra Pradesh And Telangana\". www.ndtv.com. Retrieved 23 October 2024.\n",
      "^ \"Prabhas donates Rs 2 crore, Allu Arjun sends Rs 1 crore to CM Relief Funds for flood-affected people in AP and Telangana\". PINKVILLA. 4 September 2024. Retrieved 23 October 2024.\n",
      "^ \"Prabhas decoded: How and why 'Salaar' star is a pan-India superstar\". India Today. 23 December 2023. Retrieved 7 February 2024.\n",
      "^ \"Salaar Director Prashanth Praises Prabhas As Pan-India Star With Heart Of Gold\". Zee News. Retrieved 7 February 2024.\n",
      "^ Aditya (14 June 2023). \"Prabhas is the real Pan-Indian star and Global star from Tollywood\". TrackTollywood. Retrieved 7 February 2024.\n",
      "^ \"Prabhas – a flagbearer of introducing the trend of Pan India films in the nation\". The Times of India. 11 November 2022. ISSN 0971-8257. Retrieved 7 February 2024.\n",
      "^ \"Prabhas on why he is called 'Darling'!\". The Times of India. 20 October 2021. Archived from the original on 23 January 2023. Retrieved 19 July 2023.\n",
      "^ \"When 'Young Rebel Star' Prabhas revealed he is not comfortable with such titles\". Hindustan Times. 23 October 2023. Archived from the original on 2 January 2024. Retrieved 2 January 2024.\n",
      "^ \"Prabhas – The second most desirable in India\". Sify. Archived from the original on 4 May 2018. Retrieved 25 June 2021.\n",
      "^ \"'The Times 50 Most Desirable Men Of 2018' List Is Out & Guess Who The Top 5 Most Wanted Men Are\". mensxp.com. 17 May 2019. Archived from the original on 25 June 2021. Retrieved 25 June 2021.\n",
      "^ @HydTimes (2 June 2021). \"Forever Desirable : The latest to join the club is our very own #Baahubali, #Prabhas, who enjoys a huge fan following! #HydTimesMostDesirableMen2020 #ForeverDesirable\" (Tweet) – via Twitter.\n",
      "^ \"Prabhas joins Hyd Times Forever Desirable list\". 123telugu.com. 2 June 2021. Archived from the original on 25 June 2021. Retrieved 25 June 2021.\n",
      "^ \"Ajith, Prabhas are Karnataka's most-searched actors\". The Times of India. Archived from the original on 27 June 2021. Retrieved 25 June 2021.\n",
      "^ \"Prabhas makes it to the Top 10 list of Sexiest Asian Men of 2019; only actor from South\". The Times of India. Archived from the original on 26 June 2021. Retrieved 21 June 2021.\n",
      "^ \"Meet the SEXIEST Asian Male of 2019\". Rediff. Archived from the original on 24 June 2021. Retrieved 21 June 2021.\n",
      "^ \"GQ's Most Influential Young Indians 2017: Artistes\". GQ India. 7 July 2017. Archived from the original on 25 June 2021. Retrieved 25 June 2021.\n",
      "^ \"Prabhas refuses to take up brand endorsements worth Rs 150 crores, why?\". The Siasat Daily. 23 June 2021. Archived from the original on 25 June 2021. Retrieved 25 June 2021.\n",
      "^ \"Mahindra TUV300: Baahubali actor Prabhas makes his TVC debut\". 3 October 2015. Archived from the original on 30 March 2019. Retrieved 7 December 2018.\n",
      "^ \"Prabhas Rejected Brand Endorsements Worth Rs 150 crore in Past Year, Here's Why\". news18.com. 23 June 2021. Archived from the original on 25 June 2021. Retrieved 25 June 2021.\n",
      "External links\n",
      "Wikimedia Commons has media related to Prabhas.\n",
      "Prabhas at IMDb\n",
      "show\n",
      "vte\n",
      "Nandi Award for Best Actor\n",
      "show\n",
      "vte\n",
      "SIIMA Award for Best Actor – Telugu\n",
      "show\n",
      "vte\n",
      "Santosham Best Actor Award\n",
      "show\n",
      "Authority control databases\n",
      "Categories: 1979 births21st-century Indian male actorsIndian male film actorsLiving peopleMale actors from Andhra PradeshPeople from West Godavari districtTelugu male actorsNandi Award winnersMale actors in Telugu cinemaMale actors in Hindi cinemaMale actors in Tamil cinemaPeople from Andhra PradeshIndian actorsFilm people from Andhra PradeshSouth Indian International Movie Awards winnersSantosham Film Awards winnersKrishnam Raju\n"
     ]
    }
   ],
   "source": [
    "print(data.text)"
   ]
  },
  {
   "cell_type": "code",
   "execution_count": 1,
   "metadata": {},
   "outputs": [
    {
     "ename": "NameError",
     "evalue": "name 'webdriver' is not defined",
     "output_type": "error",
     "traceback": [
      "\u001b[1;31m---------------------------------------------------------------------------\u001b[0m",
      "\u001b[1;31mNameError\u001b[0m                                 Traceback (most recent call last)",
      "Cell \u001b[1;32mIn[1], line 1\u001b[0m\n\u001b[1;32m----> 1\u001b[0m da\u001b[38;5;241m=\u001b[39m\u001b[43mwebdriver\u001b[49m\u001b[38;5;241m.\u001b[39mChrome()\n\u001b[0;32m      2\u001b[0m da\u001b[38;5;241m=\u001b[39mda\u001b[38;5;241m.\u001b[39mget(\u001b[38;5;124m\"\u001b[39m\u001b[38;5;124mhttps://www.ajio.com/\u001b[39m\u001b[38;5;124m\"\u001b[39m)\n",
      "\u001b[1;31mNameError\u001b[0m: name 'webdriver' is not defined"
     ]
    }
   ],
   "source": [
    "da=webdriver.Chrome()\n",
    "da=da.get(\"https://www.ajio.com/\")"
   ]
  },
  {
   "cell_type": "code",
   "execution_count": 68,
   "metadata": {},
   "outputs": [
    {
     "ename": "AttributeError",
     "evalue": "'NoneType' object has no attribute 'find_element'",
     "output_type": "error",
     "traceback": [
      "\u001b[1;31m---------------------------------------------------------------------------\u001b[0m",
      "\u001b[1;31mAttributeError\u001b[0m                            Traceback (most recent call last)",
      "Cell \u001b[1;32mIn[68], line 1\u001b[0m\n\u001b[1;32m----> 1\u001b[0m search \u001b[38;5;241m=\u001b[39m \u001b[43mda\u001b[49m\u001b[38;5;241;43m.\u001b[39;49m\u001b[43mfind_element\u001b[49m(By\u001b[38;5;241m.\u001b[39mXPATH,\u001b[38;5;124m\"\u001b[39m\u001b[38;5;124m//input[@placeholder=\u001b[39m\u001b[38;5;124m'\u001b[39m\u001b[38;5;124mSearch AJIO\u001b[39m\u001b[38;5;124m'\u001b[39m\u001b[38;5;124m]\u001b[39m\u001b[38;5;124m\"\u001b[39m)\n",
      "\u001b[1;31mAttributeError\u001b[0m: 'NoneType' object has no attribute 'find_element'"
     ]
    }
   ],
   "source": [
    "search = da.find_element(By.XPATH,\"//input[@placeholder='Search AJIO']\")"
   ]
  },
  {
   "cell_type": "code",
   "execution_count": null,
   "metadata": {},
   "outputs": [],
   "source": []
  }
 ],
 "metadata": {
  "kernelspec": {
   "display_name": "Python 3",
   "language": "python",
   "name": "python3"
  },
  "language_info": {
   "codemirror_mode": {
    "name": "ipython",
    "version": 3
   },
   "file_extension": ".py",
   "mimetype": "text/x-python",
   "name": "python",
   "nbconvert_exporter": "python",
   "pygments_lexer": "ipython3",
   "version": "3.12.0"
  }
 },
 "nbformat": 4,
 "nbformat_minor": 2
}
